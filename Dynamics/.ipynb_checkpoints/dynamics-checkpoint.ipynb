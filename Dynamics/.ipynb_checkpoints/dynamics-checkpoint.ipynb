{
 "cells": [
  {
   "cell_type": "code",
   "execution_count": 4,
   "metadata": {},
   "outputs": [],
   "source": [
    "using NLsolve;"
   ]
  },
  {
   "cell_type": "code",
   "execution_count": 5,
   "metadata": {},
   "outputs": [],
   "source": [
    "const C_t   = 6.8 # pF\n",
    "const C_in  = .15 # pF\n",
    "const C_out = 1.3 # pF\n",
    "const C_sum = C_t + C_in + C_out\n",
    "\n",
    "const R_z =\n",
    "const R_t = 265. # Ω\n",
    "\n",
    "const V_in =\n",
    "\n",
    "co.05 "
   ]
  },
  {
   "cell_type": "code",
   "execution_count": null,
   "metadata": {},
   "outputs": [],
   "source": []
  }
 ],
 "metadata": {
  "kernelspec": {
   "display_name": "Julia 1.4.0",
   "language": "julia",
   "name": "julia-1.4"
  },
  "language_info": {
   "file_extension": ".jl",
   "mimetype": "application/julia",
   "name": "julia",
   "version": "1.4.0"
  }
 },
 "nbformat": 4,
 "nbformat_minor": 4
}
